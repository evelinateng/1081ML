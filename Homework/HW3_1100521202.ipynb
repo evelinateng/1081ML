{
 "cells": [
  {
   "cell_type": "markdown",
   "metadata": {},
   "source": [
    "# Homework3"
   ]
  },
  {
   "cell_type": "markdown",
   "metadata": {},
   "source": [
    "1. 身體質量指數(Body mass index, BMI)是由體重(公斤)除以身高(公尺)的平方，BMI 的分級如下。請撰寫程式由使用者輸入其體重(公斤)及身高(公分)，然後程式印出分級。(分級方式請參閱簡報)"
   ]
  },
  {
   "cell_type": "code",
   "execution_count": null,
   "metadata": {},
   "outputs": [],
   "source": [
    "# (BMI <18.5：體重過輕 \n",
    "    #18.5<=BMI<24：正常範圍 \n",
    "   # 24<=BMI<27：體重過重 \n",
    "   # 27<=BMI<30：輕度肥胖 \n",
    "   # 30<=BMI<=35：中度肥胖 \n",
    "   # 35<=BMI：重度肥胖)\n",
    "def question1(): \n",
    "    height=eval(input(\"身高,單位公分=\"))\n",
    "    weight=eval(input(\"體重,單位公斤=\"))\n",
    "    BMI=weight/(height/100)**2\n",
    "    print(BMI)\n",
    "    if BMI<18.5:\n",
    "        print(\"體重過輕\")\n",
    "    elif 18.5<=BMI<24:\n",
    "        print(\"體重正常\")\n",
    "    elif 24<=BMI<27:\n",
    "        print(\"體重過重\")\n",
    "    elif 27<=BMI<30:\n",
    "        print(\"輕度肥胖\")\n",
    "    elif 30<=BMI<35:\n",
    "        print(\"中度肥胖\")       \n",
    "    else:\n",
    "        print(\"過度肥胖\")\n",
    "   \n",
    "        \n",
    "question1()"
   ]
  },
  {
   "cell_type": "markdown",
   "metadata": {},
   "source": [
    "2. 閏年(Leap year)比平年(365 天)多一天，亦即 366 天。判斷閏年的方式如下(任一條件符合均可)：能被 4 整除但不能被 100 整除者/能被 400 整除者。請撰寫一程式，由使用者輸入西元年，程式判斷是否為閏年。"
   ]
  },
  {
   "cell_type": "code",
   "execution_count": 2,
   "metadata": {},
   "outputs": [
    {
     "name": "stdout",
     "output_type": "stream",
     "text": [
      "輸入西元年2019\n",
      "非閏年\n"
     ]
    }
   ],
   "source": [
    "def question2(): \n",
    "    year=eval(input(\"輸入西元年\"))\n",
    "    if ((year%4==0 and year%100!=0) or (year%400==0)):\n",
    "        print(\"閏年\")\n",
    "    else:\n",
    "            print(\"非閏年\")\n",
    "question2()"
   ]
  },
  {
   "cell_type": "markdown",
   "metadata": {},
   "source": [
    "3. 請撰寫一個程式，接受使用者輸入日期，格式為 mm/dd/yyyy (month, day, year)，程式判斷該日期是否正確。例如：09/31/2011 錯誤，因為 9 月只有 30 天；02/29/2011 錯誤，因為 2011 並非閏年。"
   ]
  },
  {
   "cell_type": "code",
   "execution_count": 3,
   "metadata": {},
   "outputs": [
    {
     "name": "stdout",
     "output_type": "stream",
     "text": [
      "Enter a data (mm/dd/yyyy): 04/14/1983\n",
      "4\n",
      "14\n",
      "1983\n",
      "日期正確\n"
     ]
    }
   ],
   "source": [
    "dataStr = input(\"Enter a data (mm/dd/yyyy): \") \n",
    "nonleap=[31,28,31,30,31,30,31,31,30,31,30,31]\n",
    "leap=[31,29,31,30,31,30,31,31,30,31,30,31]\n",
    "month=int(dataStr[0:2])\n",
    "day=int(dataStr[3:5])\n",
    "year=int(dataStr[6:10])\n",
    "print(month)\n",
    "print(day)\n",
    "print(year)\n",
    "if month > 12 or month < 1:\n",
    "     print(\"你输入的%s不是有效日期,请重新输入:\" % dateStr)\n",
    "if ((year%4==0 and year%100!=0) or (year%400==0)):\n",
    "    if day < 1 or day > leap[month-1]:\n",
    "        print(\"日期錯誤\")\n",
    "    else:\n",
    "        print(\"日期正確\")\n",
    "else:\n",
    "    if day < 1 or day > nonleap[month-1]:\n",
    "        print(\"日期錯誤\")\n",
    "    else:\n",
    "        print(\"日期正確\")"
   ]
  },
  {
   "cell_type": "markdown",
   "metadata": {},
   "source": [
    "4. 如果任何大於 2 的正整數 n 為質數，則任何整數 m，2 ≤ m ≤ √𝑛 ，都無法整除 n。請撰寫一程式，由使用者輸入 n，程式判斷其是否為質數。"
   ]
  },
  {
   "cell_type": "code",
   "execution_count": 4,
   "metadata": {},
   "outputs": [
    {
     "name": "stdout",
     "output_type": "stream",
     "text": [
      "輸入一個數字：17\n",
      "質數\n"
     ]
    }
   ],
   "source": [
    "def question4():\n",
    "    num=eval(input(\"輸入一個數字：\"))\n",
    "    p = \"質\"\n",
    "    a=[]\n",
    "    if num>=2:\n",
    "        for i in range(2,num):\n",
    "            if num%i!=0:\n",
    "                p = \"質\"\n",
    "                a.append(p)\n",
    "            else:\n",
    "                p = \"非質\"\n",
    "                a.append(p)\n",
    "    if \"非質\" in a:\n",
    "        print(\"不是質數\")\n",
    "    else:\n",
    "        print(\"質數\")\n",
    "question4()"
   ]
  },
  {
   "cell_type": "markdown",
   "metadata": {},
   "source": [
    "5. 修改上述程式，列出所有小於或等於 n 的質數。"
   ]
  },
  {
   "cell_type": "code",
   "execution_count": 5,
   "metadata": {},
   "outputs": [
    {
     "name": "stdout",
     "output_type": "stream",
     "text": [
      "輸入一個數字：60\n",
      "2\n",
      "3\n",
      "5\n",
      "7\n",
      "11\n",
      "13\n",
      "17\n",
      "19\n",
      "23\n",
      "29\n",
      "31\n",
      "37\n",
      "41\n",
      "43\n",
      "47\n",
      "53\n",
      "59\n"
     ]
    }
   ],
   "source": [
    "def is_prime(i):\n",
    "    p = \"質\"\n",
    "    a=[]\n",
    "    for n in range(2,i):\n",
    "        if i%n!=0:\n",
    "            p = \"質\"\n",
    "            a.append(p)\n",
    "        else:\n",
    "            p = \"非質\"\n",
    "            a.append(p)\n",
    "    if \"非質\" in a:\n",
    "        return False\n",
    "    else:\n",
    "        return True\n",
    "num=eval(input(\"輸入一個數字：\"))\n",
    "for i in range(2,num+1):\n",
    "    is_primef=is_prime(i)\n",
    "    if is_primef:\n",
    "        print(i)"
   ]
  }
 ],
 "metadata": {
  "kernelspec": {
   "display_name": "Python 3",
   "language": "python",
   "name": "python3"
  },
  "language_info": {
   "codemirror_mode": {
    "name": "ipython",
    "version": 3
   },
   "file_extension": ".py",
   "mimetype": "text/x-python",
   "name": "python",
   "nbconvert_exporter": "python",
   "pygments_lexer": "ipython3",
   "version": "3.7.3"
  }
 },
 "nbformat": 4,
 "nbformat_minor": 2
}
